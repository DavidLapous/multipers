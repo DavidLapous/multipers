{
 "cells": [
  {
   "cell_type": "code",
   "execution_count": 1,
   "metadata": {},
   "outputs": [],
   "source": [
    "from mma import *\n",
    "import gudhi as gd\n",
    "import matplotlib.pyplot as plt\n",
    "from multipers import *\n",
    "from sklearn.neighbors import KernelDensity\n",
    "from numpy.polynomial.polynomial import polyfit\n",
    "from numpy import poly1d\n",
    "from benchmark_functions import *\n",
    "import numpy as np\n",
    "from tqdm import tqdm"
   ]
  },
  {
   "cell_type": "markdown",
   "metadata": {},
   "source": [
    "# Complexity wrt the number of simplices at fixed dimension"
   ]
  },
  {
   "cell_type": "code",
   "execution_count": 2,
   "metadata": {},
   "outputs": [],
   "source": [
    "size = 50\n",
    "min_npts = 5\n",
    "max_npts = 500\n",
    "dim=4"
   ]
  },
  {
   "cell_type": "code",
   "execution_count": 3,
   "metadata": {},
   "outputs": [
    {
     "name": "stderr",
     "output_type": "stream",
     "text": [
      "100%|███████████████████████████████████████████| 50/50 [00:13<00:00,  3.69it/s]\n"
     ]
    }
   ],
   "source": [
    "box = [[0 for _ in range(dim)], [1 for _ in range(dim)]]\n",
    "time=[]\n",
    "nsimp=[]\n",
    "precision = 0.5\n",
    "for i in tqdm(range(size)):\n",
    "    npts = np.random.randint(low=min_npts, high = max_npts)\n",
    "    X = np.random.uniform(low=0, high=2, size=[npts,2])\n",
    "    simplextree = gd.AlphaComplex(points=X).create_simplex_tree()\n",
    "    nsimp.append(simplextree.num_simplices())\n",
    "    filtration = [np.random.uniform(low=0, high=0.9, size=npts) for _ in range(dim)]\n",
    "    time.append(time_approx(simplextree, filtration, precision, box))"
   ]
  },
  {
   "cell_type": "code",
   "execution_count": 4,
   "metadata": {
    "scrolled": true
   },
   "outputs": [
    {
     "data": {
      "image/png": "[encoded data removed]",
      "text/plain": [
       "<Figure size 432x288 with 1 Axes>"
      ]
     },
     "metadata": {
      "needs_background": "light"
     },
     "output_type": "display_data"
    }
   ],
   "source": [
    "plt.scatter(nsimp,time)\n",
    "poly = np.poly1d(np.polyfit(np.log(nsimp),np.log(time),1))\n",
    "x = np.linspace(np.min(nsimp),np.max(nsimp))\n",
    "y = np.exp(poly(np.log(x)))\n",
    "plt.loglog(x,y, color='r', label=\"Linear regression : {}\".format(poly))\n",
    "plt.xlabel(\"Number of simplices\")\n",
    "plt.ylabel(\"Time to compute, in seconds\")\n",
    "plt.legend()\n",
    "plt.show()"
   ]
  },
  {
   "cell_type": "markdown",
   "metadata": {},
   "source": [
    "As we expected, at fixed dimension, the complexity wrt the number of simplices is between linear and cubic depending on the input."
   ]
  },
  {
   "cell_type": "markdown",
   "metadata": {},
   "source": [
    "# Warning, number of lines is NOT fixed, and grows exponentially to keep precision fixed."
   ]
  },
  {
   "cell_type": "markdown",
   "metadata": {},
   "source": [
    "# Complexity of dimension with respect to precision."
   ]
  },
  {
   "cell_type": "code",
   "execution_count": 5,
   "metadata": {
    "scrolled": true
   },
   "outputs": [
    {
     "name": "stdout",
     "output_type": "stream",
     "text": [
      "1771\n"
     ]
    },
    {
     "name": "stderr",
     "output_type": "stream",
     "text": [
      "100%|█████████████████████████████████████████████| 9/9 [02:38<00:00, 17.64s/it]\n"
     ]
    }
   ],
   "source": [
    "npts = 300\n",
    "X = np.random.uniform(low=0, high=2, size=[npts,2])\n",
    "simplextree = gd.AlphaComplex(points=X).create_simplex_tree()\n",
    "print(simplextree.num_simplices())\n",
    "max_dim=11\n",
    "time_dim=[]\n",
    "dim_vec=[]\n",
    "precision = 0.7\n",
    "ntries = 1\n",
    "for dim in tqdm(range(2,max_dim)):\n",
    "    box = [[0 for _ in range(dim)], [1 for _ in range(dim)]]\n",
    "    for _ in range(ntries):\n",
    "        filtration = [np.random.uniform(low=0, high=0.9, size=npts) for _ in range(dim)]\n",
    "        time_dim.append(time_approx(simplextree, filtration, precision, box))\n",
    "        dim_vec.append(dim)"
   ]
  },
  {
   "cell_type": "code",
   "execution_count": 6,
   "metadata": {},
   "outputs": [
    {
     "data": {
      "image/png": "[encoded data removed]",
      "text/plain": [
       "<Figure size 432x288 with 1 Axes>"
      ]
     },
     "metadata": {
      "needs_background": "light"
     },
     "output_type": "display_data"
    }
   ],
   "source": [
    "fig, ax = plt.subplots()\n",
    "plt.scatter(dim_vec, time_dim)\n",
    "poly = np.poly1d(np.polyfit(np.log(dim_vec),np.log(time_dim),2))\n",
    "# x=np.linspace(2,max_dim,50)\n",
    "# y = np.exp(poly(np.log(x)))\n",
    "ax.set_yscale('log')\n",
    "# plt.plot(x,y, color='r', label=\"Sub-polynomial regression : {}\".format(poly))\n",
    "plt.xlabel(\"Dimension\")\n",
    "plt.ylabel(\"Time to compute (in seconds)\")\n",
    "plt.savefig(f\"time_vs_dimension_npts_{npts}_precision_{precision}.svg\")\n",
    "# plt.legend()\n",
    "plt.show()\n"
   ]
  },
  {
   "cell_type": "code",
   "execution_count": null,
   "metadata": {},
   "outputs": [],
   "source": []
  }
 ],
 "metadata": {
  "kernelspec": {
   "display_name": "Python 3 (ipykernel)",
   "language": "python",
   "name": "python3"
  },
  "language_info": {
   "codemirror_mode": {
    "name": "ipython",
    "version": 3
   },
   "file_extension": ".py",
   "mimetype": "text/x-python",
   "name": "python",
   "nbconvert_exporter": "python",
   "pygments_lexer": "ipython3",
   "version": "3.10.4"
  }
 },
 "nbformat": 4,
 "nbformat_minor": 4
}
