{
 "cells": [
  {
   "cell_type": "markdown",
   "id": "e1cfe649-ce09-4ae4-acde-c3370ad2ca25",
   "metadata": {},
   "source": [
    "# Delaunay Codensity-like filtrations (TODO)"
   ]
  },
  {
   "cell_type": "markdown",
   "id": "2d173b9c-6cd2-459d-84c3-51d3ffd1bf29",
   "metadata": {},
   "source": [
    "This filtration was introduced by [[Delaunay Bifiltrations of Functions on Point Clouds, Alonso et al]](https://doi.org/10.1137/1.9781611977912.173)"
   ]
  },
  {
   "cell_type": "code",
   "execution_count": null,
   "id": "c80c1976-28d9-40c5-ab0c-5be03406bb06",
   "metadata": {},
   "outputs": [],
   "source": []
  }
 ],
 "metadata": {
  "kernelspec": {
   "display_name": "Python 3 (ipykernel)",
   "language": "python",
   "name": "python3"
  },
  "language_info": {
   "codemirror_mode": {
    "name": "ipython",
    "version": 3
   },
   "file_extension": ".py",
   "mimetype": "text/x-python",
   "name": "python",
   "nbconvert_exporter": "python",
   "pygments_lexer": "ipython3",
   "version": "3.12.8"
  }
 },
 "nbformat": 4,
 "nbformat_minor": 5
}
