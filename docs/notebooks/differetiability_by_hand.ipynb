{
 "cells": [
  {
   "cell_type": "markdown",
   "id": "f6a42fe3-1d0f-4f45-b7a4-4ee37d435665",
   "metadata": {},
   "source": [
    "# Differentiability by hand (TODO)"
   ]
  },
  {
   "cell_type": "code",
   "execution_count": null,
   "id": "2d7cbeb6-a5fd-4870-98a8-e555bc4738d9",
   "metadata": {},
   "outputs": [],
   "source": []
  }
 ],
 "metadata": {
  "kernelspec": {
   "display_name": "Python 3 (ipykernel)",
   "language": "python",
   "name": "python3"
  },
  "language_info": {
   "codemirror_mode": {
    "name": "ipython",
    "version": 3
   },
   "file_extension": ".py",
   "mimetype": "text/x-python",
   "name": "python",
   "nbconvert_exporter": "python",
   "pygments_lexer": "ipython3",
   "version": "3.13.3"
  }
 },
 "nbformat": 4,
 "nbformat_minor": 5
}
