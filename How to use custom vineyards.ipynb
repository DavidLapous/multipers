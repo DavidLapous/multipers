{
 "cells": [
  {
   "cell_type": "markdown",
   "id": "4d9db35d",
   "metadata": {},
   "source": [
    "# How to use the Multiparameter Module Approximation library.\n",
    "This notebook provides a detailed example using the main functions of this library."
   ]
  },
  {
   "cell_type": "markdown",
   "id": "ffd75673",
   "metadata": {},
   "source": [
    "## Setup"
   ]
  },
  {
   "cell_type": "markdown",
   "id": "b89bbf8f",
   "metadata": {},
   "source": [
    "The easiest way to compile / install this python library is using pip :"
   ]
  },
  {
   "cell_type": "code",
   "execution_count": 1,
   "id": "2fdccf51",
   "metadata": {},
   "outputs": [],
   "source": [
    "# !MAKEFLAGS=\"-j$(nproc)\" pip install --user custom_vineyards/ "
   ]
  },
  {
   "cell_type": "markdown",
   "id": "ae596782",
   "metadata": {},
   "source": [
    "If you want to directly compile it, you can use the following command, which will create a `*.so` in the root folder, which can be imported using python."
   ]
  },
  {
   "cell_type": "code",
   "execution_count": 2,
   "id": "a0c8458a",
   "metadata": {},
   "outputs": [],
   "source": [
    "#!cd custom_vineyards/ && CC='ccache gcc' python setup.py build_ext -j4 && find build/ -name \"*.so\" -exec mv {} ../ \\; && rm -r build"
   ]
  },
  {
   "cell_type": "code",
   "execution_count": 3,
   "id": "b911c4ab",
   "metadata": {},
   "outputs": [],
   "source": [
    "import matplotlib.pyplot as plt\t\t# Plot library of Python.\n",
    "import gudhi as gd   \t\t\t\t# TDA library. This will help us generate chain complexes with the simplextree structure.\n",
    "import numpy as np   \t\t\t\t# As math in python is broken we need numpy \n",
    "from mma import * \t\t\t\t\t# Our python library to approximate n-persistence modules."
   ]
  },
  {
   "cell_type": "markdown",
   "id": "4e03e627",
   "metadata": {},
   "source": [
    "## Typical pipeline."
   ]
  },
  {
   "cell_type": "markdown",
   "id": "74392c8a",
   "metadata": {},
   "source": [
    "### Take a simplextree\n",
    "In this case we will take a simple simplextree, but in a \"real usecase\" you will want to take a simplextree generated via a dataset. "
   ]
  },
  {
   "cell_type": "code",
   "execution_count": 4,
   "id": "26ef6b68",
   "metadata": {},
   "outputs": [
    {
     "data": {
      "text/plain": [
       "True"
      ]
     },
     "execution_count": 4,
     "metadata": {},
     "output_type": "execute_result"
    }
   ],
   "source": [
    "s = gd.SimplexTree()\n",
    "s.insert([0,1,4])\n",
    "s.insert([0,3,4])\n",
    "s.insert([1,3,4])\n",
    "s.insert([0,2,5])\n",
    "s.insert([0,3,5])\n",
    "s.insert([1,2,5])\n",
    "s.insert([1,3,5])\n",
    "s.insert([6,7,9])\n",
    "s.insert([6,8,9])\n",
    "s.insert([7,8,9])\n",
    "s.insert([6,7,10])\n",
    "s.insert([6,8,10])\n",
    "s.insert([7,8,10])"
   ]
  },
  {
   "cell_type": "markdown",
   "id": "031fc353",
   "metadata": {},
   "source": [
    "### Consider a bi-filtration (ie. a list of filtrations of the simplices)"
   ]
  },
  {
   "cell_type": "markdown",
   "id": "dcbdd18a",
   "metadata": {},
   "source": [
    "In general you can give as an input an `n`-filtration, but we will stick to `n=2` for the moment, to have access to the plot functions. <br>\n",
    "If the filtration is given by the filtration that is not complete (eg. only given on the points), it will automatically be completed via a lower star filtration. "
   ]
  },
  {
   "cell_type": "code",
   "execution_count": 5,
   "id": "17211064",
   "metadata": {},
   "outputs": [],
   "source": [
    "F1 = np.array([1,1,1,4,5,4,4,4,4,4,5])\n",
    "F2 = np.array([1,1,4,1,5,4,4,4,4,5,4])\n",
    "F = [F1,F2] # or np.hstack([F1[:,np.newaxis], F2[:,np.newaxis]])"
   ]
  },
  {
   "cell_type": "markdown",
   "id": "95e2a4d0",
   "metadata": {},
   "source": [
    "### Consider a rectangle box on which to compute vineyards"
   ]
  },
  {
   "cell_type": "markdown",
   "id": "2e1a443e",
   "metadata": {},
   "source": [
    "Format : [x,y], where x,y defines the rectangle {z : x ≤ z ≤ y}. "
   ]
  },
  {
   "cell_type": "code",
   "execution_count": 6,
   "id": "89316ef9",
   "metadata": {},
   "outputs": [],
   "source": [
    "box = [[0,0], [8,8]]"
   ]
  },
  {
   "cell_type": "markdown",
   "id": "5fe6c70f",
   "metadata": {},
   "source": [
    "All of the lines intersecting this box will be computed (up to the `precision` defined below), if no box is given, it will generate one depending on the filtration values"
   ]
  },
  {
   "cell_type": "markdown",
   "id": "6557ee7e",
   "metadata": {},
   "source": [
    "### Precision and number of lines"
   ]
  },
  {
   "cell_type": "markdown",
   "id": "d2658964",
   "metadata": {},
   "source": [
    "By default, the custom algorithm will ask for a precision parameter which the control in term of bottleneck distance (and thus interleaving distance) of the approximation."
   ]
  },
  {
   "cell_type": "code",
   "execution_count": 7,
   "id": "0acbd4ff",
   "metadata": {},
   "outputs": [],
   "source": [
    "precision = 0.1"
   ]
  },
  {
   "cell_type": "markdown",
   "id": "9cd680c3",
   "metadata": {},
   "source": [
    "One can also convert the number of computed lines to a precision value with the function"
   ]
  },
  {
   "cell_type": "code",
   "execution_count": 8,
   "id": "77ee7234",
   "metadata": {},
   "outputs": [],
   "source": [
    "def nlines_to_precision(nlines, box, fix_box=True):\n",
    "    import math\n",
    "    h = abs(box[1][-1] - box[0][-1])\n",
    "    filtration_dimension = len(box[0])\n",
    "    scale = np.linalg.norm((np.array(box[1])[:-1] - np.array(box[0])[:-1]) + h,1)\n",
    "    precision = (scale / nlines)**(1/(filtration_dimension -1))\n",
    "    if fix_box: \n",
    "        # The following makes the box edges length a multiple of precision\n",
    "        for i in range(filtration_dimension-1):\n",
    "            box[1][i] -= math.fmod(box[1][i]-box[0][i] + h, precision)\n",
    "            if box[1][i] - box[0][i] < precision:\n",
    "                box[1][i] += precision\n",
    "    return precision"
   ]
  },
  {
   "cell_type": "code",
   "execution_count": 9,
   "id": "8e48d43b",
   "metadata": {
    "scrolled": true
   },
   "outputs": [
    {
     "data": {
      "text/plain": [
       "0.08"
      ]
     },
     "execution_count": 9,
     "metadata": {},
     "output_type": "execute_result"
    }
   ],
   "source": [
    "nlines = 200\n",
    "precision = nlines_to_precision(nlines,box)\n",
    "precision"
   ]
  },
  {
   "cell_type": "markdown",
   "id": "f9f5258e",
   "metadata": {},
   "source": [
    "### Compute `n`-module approximations and fibered matched barcodes"
   ]
  },
  {
   "cell_type": "markdown",
   "id": "854b9c2e",
   "metadata": {},
   "source": [
    "Approximation. The format is : [[ [birth_corner_list, death_corner_list] for summand] for dimension]"
   ]
  },
  {
   "cell_type": "code",
   "execution_count": 10,
   "id": "699f3ef5",
   "metadata": {},
   "outputs": [],
   "source": [
    "bimodule_approximation = approx(s, F, precision, box)"
   ]
  },
  {
   "cell_type": "markdown",
   "id": "9fb2bebb",
   "metadata": {},
   "source": [
    "There are other parameters :\n",
    "\n",
    "- `dimension=-1` (int) makes the algorithm only return the summands of the asked dimension.\n",
    "- `threshold=False` If set to `True`,  intersects the summands with the box (for plot purposes).\n",
    "- `verbose = False` : If set to `True`, the `C++` code will give some information about the computation,\n",
    "- `keep_order=False` : If set to true, will keep the summands (and their plot color) ordered at a small computational overhead,\n",
    "- `complete = True` : if set to `True` plots more natural candidates, with a small compuation overhead,\n",
    "- `multithread = False` : if set to `True`, it will use multiple threads (there are some issues for the moment)."
   ]
  },
  {
   "cell_type": "markdown",
   "id": "55303b45",
   "metadata": {},
   "source": [
    "Matched barcodes. The format is : [[[birth, death] for line] for summand] for dimension]"
   ]
  },
  {
   "cell_type": "code",
   "execution_count": 11,
   "id": "9a75b424",
   "metadata": {
    "scrolled": true
   },
   "outputs": [],
   "source": [
    "barcodes = vine_alt(s, F, precision, box)"
   ]
  },
  {
   "cell_type": "markdown",
   "id": "33490d81",
   "metadata": {},
   "source": [
    "It takes the same arguments as the upper function, and returns an interval approximation for each summand as a list of birth corners, and death corners (see definition from paper)"
   ]
  },
  {
   "cell_type": "markdown",
   "id": "7da428f6",
   "metadata": {},
   "source": [
    "### Sparse matrix backend"
   ]
  },
  {
   "cell_type": "markdown",
   "id": "e5493351",
   "metadata": {},
   "source": [
    "This code doesn't take as an input simplextrees, but sparse boundary matrices. All of the functions can take as an imput a simplextree, but they call, if necessary, the following function to convert a simplex tree to a sparse boundary matrix."
   ]
  },
  {
   "cell_type": "code",
   "execution_count": 12,
   "id": "97ec2da7",
   "metadata": {},
   "outputs": [],
   "source": [
    "boundary_matrix = simplextree_to_sparse_boundary(s) "
   ]
  },
  {
   "cell_type": "markdown",
   "id": "a0f76df0",
   "metadata": {},
   "source": [
    "One can call the functions with a boundary matrix instead of a simplex tree as a parameter."
   ]
  },
  {
   "cell_type": "code",
   "execution_count": 13,
   "id": "ba42c528",
   "metadata": {},
   "outputs": [],
   "source": [
    "barcodes = vine_alt(boundary_matrix, F, precision, box)\n",
    "bimodule_approximation = approx(boundary_matrix, F, precision, box)"
   ]
  },
  {
   "cell_type": "markdown",
   "id": "8db5a4c0",
   "metadata": {},
   "source": [
    "## Plotting in 2d"
   ]
  },
  {
   "cell_type": "markdown",
   "id": "e2eefba4",
   "metadata": {},
   "source": [
    "We can produce a 2D plot from a bi-filtered simplextree (or boundary matrix). The function `plot_vine_2d` takes the same inputs as the one before but one has to specify the dimension."
   ]
  },
  {
   "cell_type": "markdown",
   "id": "6acd6824",
   "metadata": {},
   "source": [
    "Candidat bi-module plot. This plots the bi-module approximation. Each color represent a different summand."
   ]
  },
  {
   "cell_type": "code",
   "execution_count": 14,
   "id": "ad80369e",
   "metadata": {},
   "outputs": [
    {
     "data": {
      "image/png": "[encoded data removed]",
      "text/plain": [
       "<Figure size 432x288 with 1 Axes>"
      ]
     },
     "metadata": {
      "needs_background": "light"
     },
     "output_type": "display_data"
    }
   ],
   "source": [
    "plot_approx_2d(s, F, precision, box, dimension = 1)"
   ]
  },
  {
   "cell_type": "markdown",
   "id": "b7dab795",
   "metadata": {},
   "source": [
    "This plot function has some optional parameters :\n",
    "\n",
    "- `return_corners=False` : if set to `True`, makes this algorithm also return the generator & relations used to plot the approximation bimodule,\n",
    "- `separated = False` : if set to `True`, makes a different plot for each summand,\n",
    "- `min_interleaving = 0` : the summands that are `min_interleaving`-interleaved with the `0` bimodule are not plotted,\n",
    "- `complete = True` : if set to `True` plots more natural candidates, with a small compuation overhead,\n",
    "- `alpha = 1`\t\t: set the alpha value of the summand's color,\n",
    "- `verbose = False` : If set to `True`, the `C++` code will give some information about the computation,\n",
    "- `keep_order=False` : If set to true, will keep the summands (and their plot color) ordered at a small computational overhead,\n",
    "- `shapely = True` : if `True` and `alpha` is lower than 1, this will call the shapely library to output a correct plot (Recommended).\n",
    "- `save = False` : if nonempty, saves the figure as the string contained in `save`,\n",
    "- `dpi = 50` : sets the dpi of the saved figure,\n",
    "- `multithread = False` : if set to `True`, it will use multiple threads (there are some issues for the moment)."
   ]
  },
  {
   "cell_type": "code",
   "execution_count": 15,
   "id": "132a141a",
   "metadata": {},
   "outputs": [
    {
     "data": {
      "image/png": "[encoded data removed]",
      "text/plain": [
       "<Figure size 432x288 with 1 Axes>"
      ]
     },
     "metadata": {
      "needs_background": "light"
     },
     "output_type": "display_data"
    },
    {
     "data": {
      "image/png": "[encoded data removed]",
      "text/plain": [
       "<Figure size 432x288 with 1 Axes>"
      ]
     },
     "metadata": {
      "needs_background": "light"
     },
     "output_type": "display_data"
    }
   ],
   "source": [
    "plot_approx_2d(s, F, precision, box, dimension = 1, separated=1)"
   ]
  },
  {
   "cell_type": "markdown",
   "id": "7c1e9f1b",
   "metadata": {},
   "source": [
    "One can plot a persistence image (see associated paper for def) which is bottleneck stable, and is able to discriminate several indicator decomposable $n$-modules.\n",
    "\n",
    "For instance, the modules : "
   ]
  },
  {
   "cell_type": "code",
   "execution_count": 16,
   "id": "584ec82a",
   "metadata": {},
   "outputs": [
    {
     "data": {
      "image/png": "[encoded data removed]",
      "text/plain": [
       "<Figure size 432x288 with 1 Axes>"
      ]
     },
     "metadata": {
      "needs_background": "light"
     },
     "output_type": "display_data"
    },
    {
     "data": {
      "image/png": "[encoded data removed]",
      "text/plain": [
       "<Figure size 432x288 with 1 Axes>"
      ]
     },
     "metadata": {
      "needs_background": "light"
     },
     "output_type": "display_data"
    }
   ],
   "source": [
    "s2 = gd.SimplexTree()\n",
    "#cycle 1\n",
    "s2.insert([0,1,3])\n",
    "s2.insert([0,2,3])\n",
    "s2.insert([1,2,3])\n",
    "#cycle 2\n",
    "s2.insert([4,5,7])\n",
    "s2.insert([5,6,7])\n",
    "s2.insert([4,6,7])\n",
    "\n",
    "F2 = [[1,1,1,5,4,4,4,4], [4,4,4,4,1,1,1,5]]\n",
    "box = [[0,0],[8,8]]\n",
    "precision = 0.5\n",
    "plot_approx_2d(s, F, precision = precision, box = box, dimension = 1); \n",
    "plot_approx_2d(s2, F2, precision = precision, box = box, dimension = 1, alpha = 0.9)\n"
   ]
  },
  {
   "cell_type": "markdown",
   "id": "df60d1d0",
   "metadata": {},
   "source": [
    "are pointwise exactly the same, but the persistence images are different :"
   ]
  },
  {
   "cell_type": "code",
   "execution_count": 17,
   "id": "8c055d08",
   "metadata": {
    "scrolled": true
   },
   "outputs": [
    {
     "data": {
      "image/png": "[encoded data removed]",
      "text/plain": [
       "<Figure size 432x288 with 2 Axes>"
      ]
     },
     "metadata": {
      "needs_background": "light"
     },
     "output_type": "display_data"
    },
    {
     "data": {
      "image/png": "[encoded data removed]",
      "text/plain": [
       "<Figure size 432x288 with 2 Axes>"
      ]
     },
     "metadata": {
      "needs_background": "light"
     },
     "output_type": "display_data"
    }
   ],
   "source": [
    "persistence_image_2d(s, F, precision, box, bandwidth= 0.01, dimension = 1, aspect = 1/1.6); plt.show();\n",
    "persistence_image_2d(s2,F2, precision=0.5, bandwidth= 0.01, box = [[0,0],[8,8]], dimension = 1, aspect=1/1.6);"
   ]
  },
  {
   "cell_type": "markdown",
   "id": "16f36600",
   "metadata": {},
   "source": [
    "This `persistence_image_2d` function can take several parameters and can infer some of them:\n",
    "- **TODO**"
   ]
  },
  {
   "cell_type": "markdown",
   "id": "c5ea5ee8",
   "metadata": {},
   "source": [
    "#### Other approximation examples (See the notebook `examples_of_approximations` for details and more detailed examples)"
   ]
  },
  {
   "cell_type": "code",
   "execution_count": 18,
   "id": "ea44d99e",
   "metadata": {
    "scrolled": true
   },
   "outputs": [
    {
     "data": {
      "image/png": "[encoded data removed]",
      "text/plain": [
       "<Figure size 432x288 with 1 Axes>"
      ]
     },
     "metadata": {
      "needs_background": "light"
     },
     "output_type": "display_data"
    }
   ],
   "source": [
    "simplextree = gd.SimplexTree()\n",
    "simplextree.insert([0])\n",
    "simplextree.insert([1])\n",
    "simplextree.insert([2])\n",
    "simplextree.insert([3])\n",
    "simplextree.insert([4])\n",
    "simplextree.insert([5])\n",
    "simplextree.insert([0, 1])\n",
    "simplextree.insert([0, 3])\n",
    "simplextree.insert([1, 2])\n",
    "simplextree.insert([2, 3])\n",
    "simplextree.insert([2, 4])\n",
    "simplextree.insert([1, 4])\n",
    "simplextree.insert([3, 4])\n",
    "simplextree.insert([1, 5])\n",
    "simplextree.insert([3, 5])\n",
    "simplextree.insert([4, 5])\n",
    "simplextree.insert([1, 2, 4])\n",
    "simplextree.insert([2, 3, 4])\n",
    "simplextree.insert([1, 4, 5])\n",
    "simplextree.insert([3, 4, 5])\n",
    "filtration = np.array([[1, 1],[1, 2],[2, 2],[1, 2],[3, 2.5],[1, 3]])\n",
    "\n",
    "plot_approx_2d(simplextree, filtration, 0.05, box=[[0,1.5],[4,4]], dimension=1, separated=0)"
   ]
  },
  {
   "cell_type": "code",
   "execution_count": 19,
   "id": "8c085a49",
   "metadata": {},
   "outputs": [
    {
     "data": {
      "image/png": "[encoded data removed]",
      "text/plain": [
       "<Figure size 432x288 with 1 Axes>"
      ]
     },
     "metadata": {
      "needs_background": "light"
     },
     "output_type": "display_data"
    },
    {
     "data": {
      "text/plain": [
       "[([[0.0, 1.0], [1.0, 0.0]], [[2.0, 2.0]]),\n",
       " ([[0.9999999999999999, 1.0]], [[2.0, 2.0]])]"
      ]
     },
     "execution_count": 19,
     "metadata": {},
     "output_type": "execute_result"
    }
   ],
   "source": [
    "simplextree = gd.SimplexTree()\n",
    "simplextree.insert([0,3])\n",
    "simplextree.insert([1,3])\n",
    "simplextree.insert([2])\n",
    "F1 = np.array([0,1,1,1])\n",
    "F2 = np.array([1,0,1,1])\n",
    "filters = np.hstack([F1[:,np.newaxis], F2[:,np.newaxis]])\n",
    "plot_approx_2d(simplextree, filters, 0.1, box=[[0,0],[2,2]],dimension=0, return_corners=1)\n"
   ]
  },
  {
   "cell_type": "markdown",
   "id": "9f44bee1",
   "metadata": {},
   "source": [
    "## Filtered Simplextree with density pipeline"
   ]
  },
  {
   "cell_type": "code",
   "execution_count": 20,
   "id": "763f8e89",
   "metadata": {},
   "outputs": [],
   "source": [
    "from benchmark_functions import noisy_annulus\n",
    "from sklearn.neighbors import KernelDensity"
   ]
  },
  {
   "cell_type": "code",
   "execution_count": 21,
   "id": "20f3837a",
   "metadata": {},
   "outputs": [
    {
     "data": {
      "text/plain": [
       "<matplotlib.collections.PathCollection at 0x7fe7ba49d720>"
      ]
     },
     "execution_count": 21,
     "metadata": {},
     "output_type": "execute_result"
    },
    {
     "data": {
      "image/png": "[encoded data removed]",
      "text/plain": [
       "<Figure size 432x288 with 1 Axes>"
      ]
     },
     "metadata": {
      "needs_background": "light"
     },
     "output_type": "display_data"
    }
   ],
   "source": [
    "npts = 300\n",
    "noutliers = npts * 0.05\n",
    "X = np.array(noisy_annulus(1,1.5, npts) + noisy_annulus(0,0.7, (int)(noutliers/2)) + noisy_annulus(1.6,3, (int)(noutliers/2)) )\n",
    "plt.scatter(X[:,0], X[:,1])"
   ]
  },
  {
   "cell_type": "code",
   "execution_count": 22,
   "id": "9771eed5",
   "metadata": {},
   "outputs": [],
   "source": [
    "nlines = 100\n",
    "simplextree = gd.AlphaComplex(points=X).create_simplex_tree()\n",
    "\n",
    "kde = KernelDensity(kernel='gaussian', bandwidth=.3).fit(X)\n",
    "\n",
    "filtration_dens = -np.array(kde.score_samples(X))\n",
    "filtration_alpha = np.array([simplextree.filtration(s) for s,_ in simplextree.get_simplices()])\n",
    "to_complete_filtration = [filtration_alpha, filtration_dens]\n",
    "boundary, filters = ls_boundary_density(simplextree, to_complete_filtration, to_permute=[0])\n",
    "\n",
    "box = [[0,1.5], [1.5,4]]\n",
    "precision = nlines_to_precision(nlines,box)"
   ]
  },
  {
   "cell_type": "code",
   "execution_count": 23,
   "id": "5eb933c1",
   "metadata": {
    "scrolled": true
   },
   "outputs": [
    {
     "name": "stdout",
     "output_type": "stream",
     "text": [
      "Filtration dimension : 2\n",
      "Number of simplices : 1853\n",
      "Precision : 0.04\n",
      "Number of lines : 99\n",
      "Creating matrix ... Done !\n",
      "Initializing barcode... Done ! It took 0.000414 seconds.\n",
      "Multithreading status : 0\n",
      "Starting recursive vineyard loop... Done ! It took 0.0209 seconds.\n",
      "Cleaning output ... Completing output ... Done ! It took 0.000337824 seconds.\n"
     ]
    },
    {
     "data": {
      "image/png": "[encoded data removed]",
      "text/plain": [
       "<Figure size 432x288 with 1 Axes>"
      ]
     },
     "metadata": {
      "needs_background": "light"
     },
     "output_type": "display_data"
    },
    {
     "name": "stdout",
     "output_type": "stream",
     "text": [
      "CPU times: user 320 ms, sys: 3.93 ms, total: 324 ms\n",
      "Wall time: 320 ms\n"
     ]
    }
   ],
   "source": [
    "%time plot_approx_2d(boundary, filters,precision, box, dimension=1, complete=1, alpha = 0.8, min_interleaving=0.2, separated = 0, keep_order = 1, verbose=1)"
   ]
  },
  {
   "cell_type": "markdown",
   "id": "a1056b78",
   "metadata": {},
   "source": [
    "We can see in that example that there is only 1 significant summand (ie. summand that is not `min_interleaving=0.2`-interleaved with `0`) as `separated=1` of dimension 1 representing the circle."
   ]
  },
  {
   "cell_type": "code",
   "execution_count": 24,
   "id": "96c4daa8",
   "metadata": {},
   "outputs": [
    {
     "data": {
      "image/png": "[encoded data removed]",
      "text/plain": [
       "<Figure size 432x288 with 2 Axes>"
      ]
     },
     "metadata": {
      "needs_background": "light"
     },
     "output_type": "display_data"
    }
   ],
   "source": [
    "persistence_image_2d(boundary, filters, precision=precision, box=box, bandwidth=0.1,dimension=1);"
   ]
  },
  {
   "cell_type": "markdown",
   "id": "7a030ffc",
   "metadata": {},
   "source": [
    "## Higher dimensions"
   ]
  },
  {
   "cell_type": "markdown",
   "id": "474e6b9c",
   "metadata": {},
   "source": [
    "The same syntax applies in higher persistence dimension : "
   ]
  },
  {
   "cell_type": "code",
   "execution_count": 25,
   "id": "86ff49ea",
   "metadata": {},
   "outputs": [
    {
     "name": "stdout",
     "output_type": "stream",
     "text": [
      "1853\n"
     ]
    }
   ],
   "source": [
    "max_dim = 5\n",
    "n = simplextree.num_simplices()\n",
    "print(n)\n",
    "# We take a random filtration of the form\n",
    "F = [[np.random.uniform(low = 0, high = 1) for _ in range(n)] for _ in range(max_dim)]\n",
    "# And a random box of the same dimension \n",
    "box = [[np.random.uniform(low = 0, high = 1) for _ in range(max_dim)], [np.random.uniform(low = 2, high = 3)for _ in range(max_dim)]]\n",
    "precision=1"
   ]
  },
  {
   "cell_type": "code",
   "execution_count": 26,
   "id": "e64b91fb",
   "metadata": {
    "scrolled": true
   },
   "outputs": [],
   "source": [
    "# %time multidim_barcodes = vine_alt(simplextree, F, precision, box);"
   ]
  },
  {
   "cell_type": "code",
   "execution_count": 27,
   "id": "db29f3fd",
   "metadata": {},
   "outputs": [],
   "source": [
    "# %time n_mod_approximation = approx(simplextree, F, precision, box, complete = 1);"
   ]
  },
  {
   "cell_type": "markdown",
   "id": "219639a7",
   "metadata": {},
   "source": [
    "But there is no plotting function in higher dimension."
   ]
  }
 ],
 "metadata": {
  "kernelspec": {
   "display_name": "Python 3 (ipykernel)",
   "language": "python",
   "name": "python3"
  },
  "language_info": {
   "codemirror_mode": {
    "name": "ipython",
    "version": 3
   },
   "file_extension": ".py",
   "mimetype": "text/x-python",
   "name": "python",
   "nbconvert_exporter": "python",
   "pygments_lexer": "ipython3",
   "version": "3.10.2"
  }
 },
 "nbformat": 4,
 "nbformat_minor": 5
}
