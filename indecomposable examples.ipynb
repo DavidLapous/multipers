{
 "cells": [
  {
   "cell_type": "code",
   "execution_count": 1,
   "id": "b8dba38a",
   "metadata": {},
   "outputs": [],
   "source": [
    "import gudhi as gd\n",
    "from mma import *\n",
    "import numpy as np"
   ]
  },
  {
   "cell_type": "code",
   "execution_count": 2,
   "id": "e5fee379",
   "metadata": {},
   "outputs": [],
   "source": [
    "#                   fermé en haut\n",
    "#                    |\n",
    "#   losange -> double triangle  -> fermé en bas\n",
    "\n",
    "#          1\n",
    "#        0  2\n",
    "#         3"
   ]
  },
  {
   "cell_type": "code",
   "execution_count": 3,
   "id": "36c4288c",
   "metadata": {},
   "outputs": [
    {
     "data": {
      "image/png": "[encoded data removed]",
      "text/plain": [
       "<Figure size 432x288 with 1 Axes>"
      ]
     },
     "metadata": {
      "needs_background": "light"
     },
     "output_type": "display_data"
    }
   ],
   "source": [
    "s = gd.SimplexTree()\n",
    "s.insert([0,1,2])\n",
    "s.insert([0,2,3])\n",
    "\n",
    "filtration = np.array([ [0,0], [0,0], [0,0], [0,0], [0,0], [1,1], [0,0], [0,0], [0,0], [1,2], [2,1]])\n",
    "#                          0    1      2       3      01    02     03      12    23     012    023\n",
    "plot_approx_2d(s, filtration, 0.5, box=[[-0.2,-0.2], [3,3]], dimension=1, alpha = 1)"
   ]
  },
  {
   "cell_type": "code",
   "execution_count": 4,
   "id": "7537b518",
   "metadata": {},
   "outputs": [
    {
     "data": {
      "image/png": "[encoded data removed]",
      "text/plain": [
       "<Figure size 432x288 with 1 Axes>"
      ]
     },
     "metadata": {
      "needs_background": "light"
     },
     "output_type": "display_data"
    }
   ],
   "source": [
    "s = gd.SimplexTree()\n",
    "s.insert([0,1,2])\n",
    "s.insert([0,2,3])\n",
    "\n",
    "filtration = np.array([ [0,0], [0,0], [0,0], [0,0], [0,0], [0,0], [0,0], [0,0], [0,0], [1,2], [2,1]])\n",
    "#                          0    1      2       3      01    02     03      12    23     012    023\n",
    "plot_approx_2d(s, filtration, 1, box=[[-0.2,-0.2], [3,3]], dimension=1, alpha = 0.9)"
   ]
  },
  {
   "cell_type": "code",
   "execution_count": null,
   "id": "834ea522",
   "metadata": {},
   "outputs": [],
   "source": []
  }
 ],
 "metadata": {
  "kernelspec": {
   "display_name": "Python 3 (ipykernel)",
   "language": "python",
   "name": "python3"
  },
  "language_info": {
   "codemirror_mode": {
    "name": "ipython",
    "version": 3
   },
   "file_extension": ".py",
   "mimetype": "text/x-python",
   "name": "python",
   "nbconvert_exporter": "python",
   "pygments_lexer": "ipython3",
   "version": "3.10.4"
  }
 },
 "nbformat": 4,
 "nbformat_minor": 5
}
