{
 "cells": [
  {
   "cell_type": "markdown",
   "id": "4d9db35d",
   "metadata": {},
   "source": [
    "# How to use the Multiparameter persistence Module Approximation library.\n",
    "This notebook provides a detailed example using the main functions of this library."
   ]
  },
  {
   "cell_type": "markdown",
   "id": "ffd75673",
   "metadata": {},
   "source": [
    "## Setup"
   ]
  },
  {
   "cell_type": "markdown",
   "id": "b89bbf8f",
   "metadata": {},
   "source": [
    "The easiest way to compile / install this python library is using pip :"
   ]
  },
  {
   "cell_type": "code",
   "execution_count": 1,
   "id": "2fdccf51",
   "metadata": {},
   "outputs": [],
   "source": [
    "# ! pip install --user src/ "
   ]
  },
  {
   "cell_type": "code",
   "execution_count": 2,
   "id": "b911c4ab",
   "metadata": {},
   "outputs": [],
   "source": [
    "import matplotlib.pyplot as plt\t\t# Plot library of Python.\n",
    "import gudhi as gd   \t\t\t\t# TDA library. This will help us generate chain complexes with the simplextree structure.\n",
    "import numpy as np   \t\t\t\t# As math in python is broken we need numpy \n",
    "from mma import approx, splx2bf\t\t# Our python library to approximate n-persistence modules."
   ]
  },
  {
   "cell_type": "markdown",
   "id": "4e03e627",
   "metadata": {},
   "source": [
    "## Synthetic example"
   ]
  },
  {
   "cell_type": "markdown",
   "id": "74392c8a",
   "metadata": {},
   "source": [
    "### Take a simplextree\n",
    "In this case we will take a simple simplextree, but in a \"real usecase\" you will want to take a simplextree generated via a dataset. "
   ]
  },
  {
   "cell_type": "code",
   "execution_count": 3,
   "id": "26ef6b68",
   "metadata": {},
   "outputs": [
    {
     "data": {
      "text/plain": [
       "True"
      ]
     },
     "execution_count": 3,
     "metadata": {},
     "output_type": "execute_result"
    }
   ],
   "source": [
    "simplextree = gd.SimplexTree()     # SimplexTree is the data structure of gudhi to hold filtered complexes\n",
    "simplextree.insert([0,1,2])        # we add the triangle 0-1-2 to the complex."
   ]
  },
  {
   "cell_type": "code",
   "execution_count": 4,
   "id": "d8456b33",
   "metadata": {},
   "outputs": [],
   "source": [
    "#\n",
    "#    0---2\n",
    "#    |**/\n",
    "#    |*/\n",
    "#    |/\n",
    "#    1\n",
    "#"
   ]
  },
  {
   "cell_type": "markdown",
   "id": "031fc353",
   "metadata": {},
   "source": [
    "### Consider a bi-filtration (ie. a list of filtrations of the simplices)"
   ]
  },
  {
   "cell_type": "markdown",
   "id": "dcbdd18a",
   "metadata": {},
   "source": [
    "In general you can give as an input an `n`-filtration, but we will stick to `n=2` for the moment, to have access to the plot functions. <br>\n",
    "If the filtration is given by the filtration that is not complete (eg. only given on the points), it will automatically be completed via a lower star filtration. "
   ]
  },
  {
   "cell_type": "code",
   "execution_count": 5,
   "id": "17211064",
   "metadata": {},
   "outputs": [],
   "source": [
    "bifiltrations = np.array([\n",
    "    # bi-filtration #simplex (in the lexicographic order)\n",
    "    [0,0],          # 0\n",
    "    [0,0],          # 1\n",
    "    [0,0],          # 2\n",
    "    [1,2],          # 0 1\n",
    "    [1,2],          # 0 2\n",
    "    [1,2],          # 1 2\n",
    "    [3,3],          # 0 1 2\n",
    "])"
   ]
  },
  {
   "cell_type": "markdown",
   "id": "f9f5258e",
   "metadata": {},
   "source": [
    "### Compute `n`-module approximations"
   ]
  },
  {
   "cell_type": "markdown",
   "id": "9fb2bebb",
   "metadata": {},
   "source": [
    "Use the `approx` function. It takes the following parameters:\n",
    "- `simplextree` Can be either a \n",
    "  - Gudhi simplextree, or, \n",
    "  - a boundary matrix\n",
    "- `nfiltration` The $n$ filtration, with the **lexicographic order** on simplices. \n",
    "  - Format : [$F_1$, $F_2$, $\\dots$, $F_n$] where the $F_i$s are 1 dimensional filtration of the form [filtration(simplex) for simplex in complex], where the order over the simplices is the lexicographic one.\n",
    "  - The Python interface only supports 1-critical filtrations.\n",
    "  - The filtration of the simplextree (with a good order), and the boundary matrix can be retrieved with the `splx2bf` function\n",
    "- `precision=0.01` The precision w.r.t. the bottleneck distance, when the infered module is decomposable into intervals.\n",
    "  - a smaller precision can increase the quality of the approximation,\n",
    "  - a bigger precision reduces the compute time.\n",
    "- `box` Defines where to compute the module approximation\n",
    "  - Can be infered by the bifiltration, but not always optimal.\n",
    "  - Format : [x,y], where x,y defines the rectangle {z : x ≤ z ≤ y}. \n",
    "- `threshold=False` If set to `True`,  intersects the summands with the box\n",
    "- `verbose = False` : If set to `True`, the `C++` code will give some information about the computation"
   ]
  },
  {
   "cell_type": "code",
   "execution_count": 6,
   "id": "be73af0d",
   "metadata": {},
   "outputs": [],
   "source": [
    "approximation_parameters = {\n",
    "    \"precision\":0.1,\n",
    "    \"box\": [[0,0], [4,4]],\n",
    "    \"threshold\":0, \"verbose\":0,\n",
    "}"
   ]
  },
  {
   "cell_type": "code",
   "execution_count": 7,
   "id": "51addf41",
   "metadata": {},
   "outputs": [],
   "source": [
    "bimodule_approximation = approx(simplextree, bifiltrations, **approximation_parameters)"
   ]
  },
  {
   "cell_type": "markdown",
   "id": "48a9fc2e",
   "metadata": {},
   "source": [
    "If the module is of dimension 2 you can visualize it using the plot or image function."
   ]
  },
  {
   "cell_type": "markdown",
   "id": "5f84be27",
   "metadata": {},
   "source": [
    "The `plot` function takes the following parameters :\n",
    "- `dimension=-1` The homology dimension to plot (by default all dimension are showed)\n",
    "- `box` Can be used to \"zoom\" into the original box.\n",
    "- `separated=False` If set to true, shows each summand in 1 plot.\n",
    "- `min_interleaving = 0` Shows only the summands that are at distance at least `min_interleaving` to $0$. This is usefull to speed up the plot, by only showing the large summands.\n",
    "- several matplotlib flags, such as the `alpha` parameter, cmap, or labels."
   ]
  },
  {
   "cell_type": "code",
   "execution_count": 8,
   "id": "0c69c23b",
   "metadata": {
    "scrolled": false
   },
   "outputs": [
    {
     "data": {
      "image/png": "[encoded data removed]",
      "text/plain": [
       "<Figure size 432x288 with 1 Axes>"
      ]
     },
     "metadata": {
      "needs_background": "light"
     },
     "output_type": "display_data"
    }
   ],
   "source": [
    "bimodule_approximation.plot(dimension=1)"
   ]
  },
  {
   "cell_type": "markdown",
   "id": "ced47cc3",
   "metadata": {},
   "source": [
    "The `image` function takes the following parameters :\n",
    "- `dimension=-1` The homology dimension to plot (by default all dimension are showed)\n",
    "- `resolution =[100,100]` the resolution of the image.\n",
    "- `bandwidth=1` The bandwidth smoothing parameter.\n",
    "- `plot=True` If true, plots the image.\n",
    "- `p=0` If positive, will increase the weight of the larger summands.\n",
    "- `box` Can be used to \"zoom\" into the original box.\n",
    "- several matplotlib flags."
   ]
  },
  {
   "cell_type": "code",
   "execution_count": 9,
   "id": "6035653d",
   "metadata": {},
   "outputs": [
    {
     "data": {
      "image/png": "[encoded data removed]",
      "text/plain": [
       "<Figure size 288x288 with 2 Axes>"
      ]
     },
     "metadata": {
      "needs_background": "light"
     },
     "output_type": "display_data"
    }
   ],
   "source": [
    "bimodule_approximation.image(dimension=1, bandwidth=0.1, cb=1);"
   ]
  },
  {
   "cell_type": "markdown",
   "id": "c5ea5ee8",
   "metadata": {},
   "source": [
    "For approximation examples, see the notebook `examples_of_approximations`"
   ]
  },
  {
   "cell_type": "markdown",
   "id": "9f44bee1",
   "metadata": {},
   "source": [
    "## Typical bi-filtration : Rips/Alpha + density"
   ]
  },
  {
   "cell_type": "code",
   "execution_count": 10,
   "id": "763f8e89",
   "metadata": {},
   "outputs": [],
   "source": [
    "from mma import noisy_annulus\n",
    "from sklearn.neighbors import KernelDensity"
   ]
  },
  {
   "cell_type": "markdown",
   "id": "ee7ba9f7",
   "metadata": {},
   "source": [
    "The noisy annulus dataset that we consider"
   ]
  },
  {
   "cell_type": "code",
   "execution_count": 11,
   "id": "20f3837a",
   "metadata": {},
   "outputs": [
    {
     "data": {
      "image/png": "[encoded data removed]",
      "text/plain": [
       "<Figure size 432x288 with 1 Axes>"
      ]
     },
     "metadata": {
      "needs_background": "light"
     },
     "output_type": "display_data"
    }
   ],
   "source": [
    "npts = 1000\n",
    "noutliers = (int)(npts * 0.4)\n",
    "np.random.seed(100)\n",
    "X = np.block([[np.array(noisy_annulus(1,1.5, npts))], [np.random.uniform(low=-2, high=2, size=(noutliers,2))]] )\n",
    "fig, ax = plt.subplots()\n",
    "ax.set_aspect('equal')\n",
    "plt.scatter(X[:,0], X[:,1],s=3)\n",
    "plt.show()"
   ]
  },
  {
   "cell_type": "code",
   "execution_count": 12,
   "id": "9771eed5",
   "metadata": {},
   "outputs": [],
   "source": [
    "# Defines an alpha complex from the point cloud\n",
    "ac = gd.AlphaComplex(points=X)\n",
    "simplextree = ac.create_simplex_tree()\n",
    "\n",
    "# For computational efficiency, alpha complexes can change the order of the points\n",
    "X = np.array([ac.get_point(i) for i in  range(simplextree.num_vertices())])\n",
    "\n",
    "\n",
    "# Estimates the density of the point cloud\n",
    "kde = KernelDensity(kernel='gaussian', bandwidth=1/4).fit(X)\n",
    "\n",
    "# Retrieves the boundary and the filtration from the simplextree\n",
    "boundary, alpha_filtration = splx2bf(simplextree)\n",
    "\n",
    "# Defines the bifiltration\n",
    "codensity_fitlration = -np.array(kde.score_samples(X))\n",
    "F=[alpha_filtration,codensity_fitlration]\n",
    "\n",
    "# The box on which to compute\n",
    "box = [[0,1.5], [0.4,5]]\n",
    "\n",
    "# Computes an approximation of the module\n",
    "bimodule = approx(boundary, F, box=box, precision=0.01)"
   ]
  },
  {
   "cell_type": "code",
   "execution_count": 13,
   "id": "d9e15e6f",
   "metadata": {},
   "outputs": [
    {
     "data": {
      "image/png": "[encoded data removed]",
      "text/plain": [
       "<Figure size 432x288 with 1 Axes>"
      ]
     },
     "metadata": {
      "needs_background": "light"
     },
     "output_type": "display_data"
    }
   ],
   "source": [
    "bimodule.plot(alpha=0.8, dimension=1)"
   ]
  },
  {
   "cell_type": "markdown",
   "id": "f5b15b74",
   "metadata": {},
   "source": [
    "The annulus clearly appears :)"
   ]
  },
  {
   "cell_type": "markdown",
   "id": "a1056b78",
   "metadata": {},
   "source": [
    "The $x$ axis is the alpha complex filtration, and the $y$ axis is the co-log-density (a simplex will appear earlier if it has a bigger density value) \n",
    "\n",
    "We can see in that example that there is only 1 significant (green) summand of dimension 1 representing the circle."
   ]
  },
  {
   "cell_type": "code",
   "execution_count": 14,
   "id": "96c4daa8",
   "metadata": {
    "scrolled": true
   },
   "outputs": [
    {
     "data": {
      "image/png": "[encoded data removed]",
      "text/plain": [
       "<Figure size 576x288 with 4 Axes>"
      ]
     },
     "metadata": {
      "needs_background": "light"
     },
     "output_type": "display_data"
    }
   ],
   "source": [
    "bimodule.image(bandwidth=0.01, p=2, colorbar=1);"
   ]
  },
  {
   "cell_type": "markdown",
   "id": "7a030ffc",
   "metadata": {},
   "source": [
    "## Higher dimensions"
   ]
  },
  {
   "cell_type": "markdown",
   "id": "474e6b9c",
   "metadata": {},
   "source": [
    "The same syntax applies in higher persistence dimension : "
   ]
  },
  {
   "cell_type": "code",
   "execution_count": 15,
   "id": "86ff49ea",
   "metadata": {},
   "outputs": [],
   "source": [
    "max_dim = 4\n",
    "# We take a random filtration of the form\n",
    "F = [[np.random.uniform(low = 0, high = 1) for _ in range(simplextree.num_vertices())] for _ in range(max_dim)]\n",
    "# And a random box of the same dimension \n",
    "box = [[np.random.uniform(low = 0, high = 1) for _ in range(max_dim)], [np.random.uniform(low = 2, high = 3)for _ in range(max_dim)]]\n",
    "precision=1"
   ]
  },
  {
   "cell_type": "code",
   "execution_count": 16,
   "id": "db29f3fd",
   "metadata": {
    "scrolled": true
   },
   "outputs": [
    {
     "name": "stdout",
     "output_type": "stream",
     "text": [
      "CPU times: user 5.78 s, sys: 50.5 ms, total: 5.83 s\n",
      "Wall time: 5.78 s\n"
     ]
    }
   ],
   "source": [
    "%time n_mod_approximation = approx(simplextree, F, precision, box);"
   ]
  },
  {
   "cell_type": "markdown",
   "id": "219639a7",
   "metadata": {},
   "source": [
    "But there is no plotting function in higher dimension."
   ]
  }
 ],
 "metadata": {
  "kernelspec": {
   "display_name": "Python 3 (ipykernel)",
   "language": "python",
   "name": "python3"
  },
  "language_info": {
   "codemirror_mode": {
    "name": "ipython",
    "version": 3
   },
   "file_extension": ".py",
   "mimetype": "text/x-python",
   "name": "python",
   "nbconvert_exporter": "python",
   "pygments_lexer": "ipython3",
   "version": "3.10.5"
  },
  "vscode": {
   "interpreter": {
    "hash": "767d51c1340bd893661ea55ea3124f6de3c7a262a8b4abca0554b478b1e2ff90"
   }
  }
 },
 "nbformat": 4,
 "nbformat_minor": 5
}
